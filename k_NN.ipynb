{
  "nbformat": 4,
  "nbformat_minor": 0,
  "metadata": {
    "colab": {
      "name": "k-NN.ipynb",
      "provenance": [],
      "collapsed_sections": [],
      "authorship_tag": "ABX9TyMqkQH5R2nipvfkZTjJXST8",
      "include_colab_link": true
    },
    "kernelspec": {
      "name": "python3",
      "display_name": "Python 3"
    }
  },
  "cells": [
    {
      "cell_type": "markdown",
      "metadata": {
        "id": "view-in-github",
        "colab_type": "text"
      },
      "source": [
        "<a href=\"https://colab.research.google.com/github/ph2017001/MachineLearning_Wkshp/blob/master/k_NN.ipynb\" target=\"_parent\"><img src=\"https://colab.research.google.com/assets/colab-badge.svg\" alt=\"Open In Colab\"/></a>"
      ]
    },
    {
      "cell_type": "markdown",
      "metadata": {
        "id": "A8N8hHXna4Qh",
        "colab_type": "text"
      },
      "source": [
        "#### Load Iris Dataset from sklearn and perfrom k-NN Classification and Regression o"
      ]
    },
    {
      "cell_type": "code",
      "metadata": {
        "id": "1X14Acsx-F0L",
        "colab_type": "code",
        "colab": {}
      },
      "source": [
        "from sklearn.datasets import load_iris"
      ],
      "execution_count": null,
      "outputs": []
    },
    {
      "cell_type": "code",
      "metadata": {
        "id": "5ANUUKTebQV_",
        "colab_type": "code",
        "colab": {}
      },
      "source": [
        "X,y = load_iris(return_X_y=True)"
      ],
      "execution_count": null,
      "outputs": []
    },
    {
      "cell_type": "code",
      "metadata": {
        "id": "mS2d4UyNbgoN",
        "colab_type": "code",
        "colab": {}
      },
      "source": [
        "from sklearn.model_selection import train_test_split\n",
        "X_train, X_test, y_train, y_test = train_test_split(X[:,:2], y, test_size = 0.30)"
      ],
      "execution_count": null,
      "outputs": []
    },
    {
      "cell_type": "code",
      "metadata": {
        "id": "ajdRTFU7U3dx",
        "colab_type": "code",
        "colab": {
          "base_uri": "https://localhost:8080/",
          "height": 67
        },
        "outputId": "bcbd84f2-d830-4d0e-d0fe-bfaf8cdd07bc"
      },
      "source": [
        "y_test"
      ],
      "execution_count": null,
      "outputs": [
        {
          "output_type": "execute_result",
          "data": {
            "text/plain": [
              "array([2, 1, 0, 0, 0, 1, 1, 1, 0, 2, 1, 0, 1, 2, 2, 1, 2, 2, 2, 0, 0, 1,\n",
              "       2, 2, 2, 1, 0, 0, 2, 1, 1, 1, 1, 2, 2, 0, 0, 2, 1, 2, 2, 0, 2, 2,\n",
              "       1])"
            ]
          },
          "metadata": {
            "tags": []
          },
          "execution_count": 4
        }
      ]
    },
    {
      "cell_type": "markdown",
      "metadata": {
        "id": "MSENO1_-cHz1",
        "colab_type": "text"
      },
      "source": [
        "#### Scale the data using Standard Scaler"
      ]
    },
    {
      "cell_type": "code",
      "metadata": {
        "id": "l5VGdXXmb4uG",
        "colab_type": "code",
        "colab": {}
      },
      "source": [
        "from sklearn.preprocessing import StandardScaler\n",
        "scaler = StandardScaler()\n",
        "scaler.fit(X_train)\n",
        "X_train = scaler.transform(X_train)\n",
        "X_test = scaler.transform(X_test)"
      ],
      "execution_count": null,
      "outputs": []
    },
    {
      "cell_type": "code",
      "metadata": {
        "id": "yC4IhCFJcQRl",
        "colab_type": "code",
        "colab": {
          "base_uri": "https://localhost:8080/",
          "height": 1000
        },
        "outputId": "67227f06-3f61-4533-b651-6db15d8fcc83"
      },
      "source": [
        "print(X_train)"
      ],
      "execution_count": null,
      "outputs": [
        {
          "output_type": "stream",
          "text": [
            "[[-1.00540839 -0.15278253]\n",
            " [-0.6354275   1.38550736]\n",
            " [-0.88208142  0.72624026]\n",
            " [-0.51210053  1.82501876]\n",
            " [ 1.83111177 -0.37253823]\n",
            " [ 0.7211691   0.28672887]\n",
            " [-0.01879268 -0.81204963]\n",
            " [ 0.22786125  0.72624026]\n",
            " [ 1.09114999 -0.15278253]\n",
            " [ 0.47451517 -1.91082813]\n",
            " [ 1.09114999  0.50648456]\n",
            " [ 0.59784214 -1.69107243]\n",
            " [-0.51210053  0.72624026]\n",
            " [-0.75875446  0.72624026]\n",
            " [-1.12873535  0.06697317]\n",
            " [-1.25206231  0.72624026]\n",
            " [ 1.58445784 -0.15278253]\n",
            " [ 0.35118821 -0.59229393]\n",
            " [-0.88208142  0.94599596]\n",
            " [-1.49871624  0.28672887]\n",
            " [-0.01879268 -0.59229393]\n",
            " [-0.51210053  1.38550736]\n",
            " [-0.26544661 -0.81204963]\n",
            " [ 0.59784214  0.50648456]\n",
            " [-0.88208142  1.38550736]\n",
            " [ 1.70778481 -0.15278253]\n",
            " [ 0.47451517  0.72624026]\n",
            " [-0.14211964 -1.03180533]\n",
            " [ 2.32441962  1.60526306]\n",
            " [ 1.33780392  0.06697317]\n",
            " [ 0.96782303 -0.15278253]\n",
            " [ 0.96782303 -0.37253823]\n",
            " [-1.00540839 -1.69107243]\n",
            " [-0.01879268 -0.81204963]\n",
            " [-0.26544661 -0.15278253]\n",
            " [-1.49871624  0.06697317]\n",
            " [ 0.7211691  -0.59229393]\n",
            " [-0.38877357 -1.47131673]\n",
            " [ 2.32441962 -1.03180533]\n",
            " [ 0.22786125 -0.81204963]\n",
            " [ 1.33780392  0.28672887]\n",
            " [-0.88208142  0.50648456]\n",
            " [ 0.35118821 -1.03180533]\n",
            " [ 0.22786125 -0.37253823]\n",
            " [-0.01879268 -1.03180533]\n",
            " [-0.51210053 -0.15278253]\n",
            " [ 0.7211691   0.06697317]\n",
            " [-0.88208142 -1.25156103]\n",
            " [ 0.35118821 -0.37253823]\n",
            " [ 2.32441962 -0.15278253]\n",
            " [-0.51210053  0.72624026]\n",
            " [ 0.35118821 -0.59229393]\n",
            " [-1.37538928  0.28672887]\n",
            " [ 0.7211691  -0.81204963]\n",
            " [-0.14211964  2.92379726]\n",
            " [ 0.84449606 -0.15278253]\n",
            " [ 0.22786125 -1.91082813]\n",
            " [ 1.21447695 -0.15278253]\n",
            " [-1.12873535 -1.25156103]\n",
            " [-0.38877357  2.48428586]\n",
            " [-0.38877357 -1.25156103]\n",
            " [ 2.20109266 -0.15278253]\n",
            " [-0.51210053  1.82501876]\n",
            " [-1.12873535 -1.47131673]\n",
            " [ 0.10453428  0.28672887]\n",
            " [ 0.22786125 -1.91082813]\n",
            " [ 0.84449606  0.28672887]\n",
            " [ 1.46113088  0.28672887]\n",
            " [-0.75875446  0.94599596]\n",
            " [-1.74537017  0.28672887]\n",
            " [-0.88208142  1.60526306]\n",
            " [-0.26544661 -0.37253823]\n",
            " [-0.01879268  2.04477446]\n",
            " [-0.26544661 -0.59229393]\n",
            " [-1.12873535  0.06697317]\n",
            " [-1.00540839  0.94599596]\n",
            " [-0.75875446  2.26453016]\n",
            " [-0.14211964  1.60526306]\n",
            " [ 0.59784214 -0.37253823]\n",
            " [ 1.09114999  0.06697317]\n",
            " [ 0.35118821 -0.15278253]\n",
            " [ 0.35118821 -0.15278253]\n",
            " [ 1.09114999  0.50648456]\n",
            " [-1.12873535  1.16575166]\n",
            " [ 0.84449606 -0.15278253]\n",
            " [-0.38877357 -1.47131673]\n",
            " [-0.01879268 -0.81204963]\n",
            " [ 1.95443873 -0.59229393]\n",
            " [-1.00540839  0.50648456]\n",
            " [-1.25206231 -0.15278253]\n",
            " [ 0.59784214 -1.25156103]\n",
            " [ 0.47451517 -0.59229393]\n",
            " [ 0.10453428 -0.15278253]\n",
            " [-1.00540839  0.72624026]\n",
            " [ 1.09114999 -1.25156103]\n",
            " [-1.00540839  0.72624026]\n",
            " [ 0.84449606 -0.15278253]\n",
            " [-1.37538928  0.28672887]\n",
            " [ 1.09114999  0.06697317]\n",
            " [-0.38877357 -1.03180533]\n",
            " [-0.88208142  1.60526306]\n",
            " [-1.86869713 -0.15278253]\n",
            " [-1.25206231 -0.15278253]\n",
            " [-1.49871624  0.72624026]\n",
            " [-1.6220432  -1.69107243]]\n"
          ],
          "name": "stdout"
        }
      ]
    },
    {
      "cell_type": "code",
      "metadata": {
        "id": "muqXXupya3u7",
        "colab_type": "code",
        "colab": {
          "base_uri": "https://localhost:8080/",
          "height": 67
        },
        "outputId": "107cb52a-6453-4feb-b5cc-21dcd545be54"
      },
      "source": [
        "from sklearn.neighbors import KNeighborsClassifier\n",
        "classifier = KNeighborsClassifier(n_neighbors = 8)\n",
        "classifier.fit(X_train, y_train)"
      ],
      "execution_count": null,
      "outputs": [
        {
          "output_type": "execute_result",
          "data": {
            "text/plain": [
              "KNeighborsClassifier(algorithm='auto', leaf_size=30, metric='minkowski',\n",
              "                     metric_params=None, n_jobs=None, n_neighbors=8, p=2,\n",
              "                     weights='uniform')"
            ]
          },
          "metadata": {
            "tags": []
          },
          "execution_count": 8
        }
      ]
    },
    {
      "cell_type": "code",
      "metadata": {
        "id": "6QE8wC91elIs",
        "colab_type": "code",
        "colab": {}
      },
      "source": [
        "y_pred = classifier.predict(X_test)"
      ],
      "execution_count": null,
      "outputs": []
    },
    {
      "cell_type": "code",
      "metadata": {
        "id": "u4P0YUzjepHV",
        "colab_type": "code",
        "colab": {
          "base_uri": "https://localhost:8080/",
          "height": 50
        },
        "outputId": "d52edca8-e41d-492f-d439-dae54730bb53"
      },
      "source": [
        "print(y_pred)"
      ],
      "execution_count": null,
      "outputs": [
        {
          "output_type": "stream",
          "text": [
            "[2 1 0 0 0 2 1 1 0 1 1 0 1 1 2 1 2 1 2 0 0 2 2 2 2 1 0 0 1 2 2 1 1 1 1 0 0\n",
            " 1 1 1 2 0 2 2 2]\n"
          ],
          "name": "stdout"
        }
      ]
    },
    {
      "cell_type": "code",
      "metadata": {
        "id": "-s9HfmcMetYg",
        "colab_type": "code",
        "colab": {
          "base_uri": "https://localhost:8080/",
          "height": 286
        },
        "outputId": "ff4f0771-64d8-4f47-aaf0-c1e749a3e320"
      },
      "source": [
        "from sklearn.metrics import classification_report, confusion_matrix, accuracy_score\n",
        "result = confusion_matrix(y_test, y_pred)\n",
        "print(\"Confusion Matrix:\")\n",
        "print(result)\n",
        "clf_rep = classification_report(y_test, y_pred)\n",
        "print(\"Classification Report:\",)\n",
        "print (clf_rep)\n",
        "acc_scr = accuracy_score(y_test,y_pred)\n",
        "print(\"Accuracy:\",acc_scr)"
      ],
      "execution_count": null,
      "outputs": [
        {
          "output_type": "stream",
          "text": [
            "Confusion Matrix:\n",
            "[[12  0  0]\n",
            " [ 0 10  5]\n",
            " [ 0  8 10]]\n",
            "Classification Report:\n",
            "              precision    recall  f1-score   support\n",
            "\n",
            "           0       1.00      1.00      1.00        12\n",
            "           1       0.56      0.67      0.61        15\n",
            "           2       0.67      0.56      0.61        18\n",
            "\n",
            "    accuracy                           0.71        45\n",
            "   macro avg       0.74      0.74      0.74        45\n",
            "weighted avg       0.72      0.71      0.71        45\n",
            "\n",
            "Accuracy: 0.7111111111111111\n"
          ],
          "name": "stdout"
        }
      ]
    },
    {
      "cell_type": "markdown",
      "metadata": {
        "id": "VIy4XMiXftsD",
        "colab_type": "text"
      },
      "source": [
        "### k-NN Regressor"
      ]
    },
    {
      "cell_type": "code",
      "metadata": {
        "id": "23Rq0k0VfJcF",
        "colab_type": "code",
        "colab": {}
      },
      "source": [
        "X,y = load_iris(return_X_y=True)"
      ],
      "execution_count": null,
      "outputs": []
    },
    {
      "cell_type": "code",
      "metadata": {
        "id": "A1f_Px8VgLPx",
        "colab_type": "code",
        "colab": {}
      },
      "source": [
        "y = X[:,2]"
      ],
      "execution_count": null,
      "outputs": []
    },
    {
      "cell_type": "code",
      "metadata": {
        "id": "FCM4CiC6f1Om",
        "colab_type": "code",
        "colab": {}
      },
      "source": [
        "X = X[:,:2]"
      ],
      "execution_count": null,
      "outputs": []
    },
    {
      "cell_type": "code",
      "metadata": {
        "id": "tB3dYLZMgRuf",
        "colab_type": "code",
        "colab": {
          "base_uri": "https://localhost:8080/",
          "height": 185
        },
        "outputId": "571bc617-208b-425a-ce8f-4a8a9caa01b4"
      },
      "source": [
        "X[:10]"
      ],
      "execution_count": null,
      "outputs": [
        {
          "output_type": "execute_result",
          "data": {
            "text/plain": [
              "array([[5.1, 3.5],\n",
              "       [4.9, 3. ],\n",
              "       [4.7, 3.2],\n",
              "       [4.6, 3.1],\n",
              "       [5. , 3.6],\n",
              "       [5.4, 3.9],\n",
              "       [4.6, 3.4],\n",
              "       [5. , 3.4],\n",
              "       [4.4, 2.9],\n",
              "       [4.9, 3.1]])"
            ]
          },
          "metadata": {
            "tags": []
          },
          "execution_count": 10
        }
      ]
    },
    {
      "cell_type": "code",
      "metadata": {
        "id": "A53ZuWhbgcWR",
        "colab_type": "code",
        "colab": {
          "base_uri": "https://localhost:8080/",
          "height": 34
        },
        "outputId": "16aa5f96-cb22-4c97-e0a1-b79ae8041d80"
      },
      "source": [
        "y[:10]"
      ],
      "execution_count": null,
      "outputs": [
        {
          "output_type": "execute_result",
          "data": {
            "text/plain": [
              "array([1.4, 1.4, 1.3, 1.5, 1.4, 1.7, 1.4, 1.5, 1.4, 1.5])"
            ]
          },
          "metadata": {
            "tags": []
          },
          "execution_count": 11
        }
      ]
    },
    {
      "cell_type": "code",
      "metadata": {
        "id": "WhiK29i8geyU",
        "colab_type": "code",
        "colab": {
          "base_uri": "https://localhost:8080/",
          "height": 67
        },
        "outputId": "1b7a1ead-debf-4c7f-da2e-6ef4d6fb7c67"
      },
      "source": [
        "from sklearn.neighbors import KNeighborsRegressor\n",
        "knnr = KNeighborsRegressor(n_neighbors = 10)\n",
        "knnr.fit(X, y)"
      ],
      "execution_count": null,
      "outputs": [
        {
          "output_type": "execute_result",
          "data": {
            "text/plain": [
              "KNeighborsRegressor(algorithm='auto', leaf_size=30, metric='minkowski',\n",
              "                    metric_params=None, n_jobs=None, n_neighbors=10, p=2,\n",
              "                    weights='uniform')"
            ]
          },
          "metadata": {
            "tags": []
          },
          "execution_count": 12
        }
      ]
    },
    {
      "cell_type": "code",
      "metadata": {
        "id": "yPLLtGYaglZ8",
        "colab_type": "code",
        "colab": {
          "base_uri": "https://localhost:8080/",
          "height": 252
        },
        "outputId": "b9923e61-9e20-4b8b-b2d0-7587791ac7d2"
      },
      "source": [
        "knnr.predict(X)"
      ],
      "execution_count": null,
      "outputs": [
        {
          "output_type": "execute_result",
          "data": {
            "text/plain": [
              "array([1.46, 1.45, 1.51, 1.42, 1.46, 1.56, 1.46, 1.46, 1.37, 1.46, 1.52,\n",
              "       1.52, 1.48, 1.37, 1.46, 1.52, 1.56, 1.46, 1.48, 1.49, 1.5 , 1.49,\n",
              "       1.46, 1.44, 1.52, 1.47, 1.46, 1.46, 1.52, 1.51, 1.48, 1.5 , 1.54,\n",
              "       1.49, 1.46, 1.49, 1.49, 1.47, 1.37, 1.48, 1.46, 2.41, 1.39, 1.46,\n",
              "       1.49, 1.48, 1.49, 1.49, 1.53, 1.48, 5.49, 5.32, 5.19, 4.05, 5.16,\n",
              "       4.52, 5.12, 3.17, 5.02, 3.64, 3.44, 4.6 , 4.59, 4.69, 4.28, 5.21,\n",
              "       4.37, 4.36, 4.87, 4.05, 4.7 , 4.72, 5.01, 4.72, 5.19, 5.04, 5.02,\n",
              "       5.07, 4.66, 4.33, 4.05, 4.05, 4.36, 4.68, 4.22, 4.95, 5.21, 4.94,\n",
              "       4.37, 4.14, 4.19, 4.58, 4.44, 3.43, 4.21, 4.36, 4.43, 4.72, 3.79,\n",
              "       4.52, 5.12, 4.36, 5.53, 5.02, 5.02, 6.11, 2.72, 5.96, 5.06, 5.62,\n",
              "       5.3 , 5.07, 5.17, 4.23, 4.5 , 5.32, 5.02, 6.04, 6.11, 4.59, 5.34,\n",
              "       4.36, 6.11, 5.11, 5.33, 5.59, 4.93, 4.58, 5.04, 5.59, 6.11, 6.14,\n",
              "       5.04, 5.02, 4.88, 6.11, 5.23, 5.16, 4.63, 5.19, 5.21, 5.19, 4.36,\n",
              "       5.31, 5.33, 5.07, 5.01, 5.02, 5.14, 4.6 ])"
            ]
          },
          "metadata": {
            "tags": []
          },
          "execution_count": 13
        }
      ]
    },
    {
      "cell_type": "code",
      "metadata": {
        "id": "A4ODalxAgqfS",
        "colab_type": "code",
        "colab": {
          "base_uri": "https://localhost:8080/",
          "height": 34
        },
        "outputId": "b5af744a-7e27-4436-8af8-59e792a30145"
      },
      "source": [
        "knnr.score(X,y)"
      ],
      "execution_count": null,
      "outputs": [
        {
          "output_type": "execute_result",
          "data": {
            "text/plain": [
              "0.9449465827197909"
            ]
          },
          "metadata": {
            "tags": []
          },
          "execution_count": 14
        }
      ]
    },
    {
      "cell_type": "code",
      "metadata": {
        "id": "6St_beSPg3-F",
        "colab_type": "code",
        "colab": {}
      },
      "source": [
        "import numpy as np"
      ],
      "execution_count": null,
      "outputs": []
    },
    {
      "cell_type": "code",
      "metadata": {
        "id": "suLa8LtXgzJ7",
        "colab_type": "code",
        "colab": {
          "base_uri": "https://localhost:8080/",
          "height": 34
        },
        "outputId": "1f3b568b-fddd-453e-aef2-7c2feba1373b"
      },
      "source": [
        "print (\"The MSE is:\",format(np.power(y-knnr.predict(X),2).mean()))"
      ],
      "execution_count": null,
      "outputs": [
        {
          "output_type": "stream",
          "text": [
            "The MSE is: 0.17041799999999996\n"
          ],
          "name": "stdout"
        }
      ]
    }
  ]
}