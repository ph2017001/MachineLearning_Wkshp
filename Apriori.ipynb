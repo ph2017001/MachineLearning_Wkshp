{
  "nbformat": 4,
  "nbformat_minor": 0,
  "metadata": {
    "colab": {
      "name": "Apriori.ipynb",
      "provenance": [],
      "collapsed_sections": [],
      "authorship_tag": "ABX9TyPgo0nRxH0Jj/O8zqAWfIZx",
      "include_colab_link": true
    },
    "kernelspec": {
      "name": "python3",
      "display_name": "Python 3"
    }
  },
  "cells": [
    {
      "cell_type": "markdown",
      "metadata": {
        "id": "view-in-github",
        "colab_type": "text"
      },
      "source": [
        "<a href=\"https://colab.research.google.com/github/ph2017001/MachineLearning_Wkshp/blob/master/Apriori.ipynb\" target=\"_parent\"><img src=\"https://colab.research.google.com/assets/colab-badge.svg\" alt=\"Open In Colab\"/></a>"
      ]
    },
    {
      "cell_type": "code",
      "metadata": {
        "id": "I2Hr6bQBcHIR",
        "colab_type": "code",
        "colab": {}
      },
      "source": [
        "import pandas as pd\n",
        "from mlxtend.preprocessing import OnehotTransactions\n",
        "from mlxtend.frequent_patterns import apriori \n",
        "import matplotlib.pyplot as plt\n"
      ],
      "execution_count": null,
      "outputs": []
    },
    {
      "cell_type": "code",
      "metadata": {
        "id": "2-PgWsjx1DRG",
        "colab_type": "code",
        "colab": {}
      },
      "source": [
        "dataset = [['Milk', 'Onion', 'Nutmeg', 'Kidney Beans', 'Eggs', 'Yogurt'],\n",
        "           ['Dill', 'Onion', 'Nutmeg', 'Kidney Beans', 'Eggs', 'Yogurt'],\n",
        "           ['Milk', 'Apple', 'Kidney Beans', 'Eggs'],\n",
        "           ['Milk', 'Unicorn', 'Corn', 'Kidney Beans', 'Yogurt'],\n",
        "           ['Corn', 'Onion', 'Onion', 'Kidney Beans', 'Ice cream', 'Eggs']]"
      ],
      "execution_count": null,
      "outputs": []
    },
    {
      "cell_type": "code",
      "metadata": {
        "id": "5SKp8Y4W1Let",
        "colab_type": "code",
        "colab": {
          "base_uri": "https://localhost:8080/",
          "height": 205
        },
        "outputId": "e4634286-a746-49cb-a7f8-50dabc8baaf2"
      },
      "source": [
        "oht = OnehotTransactions()\n",
        "oht_ary = oht.fit(dataset).transform(dataset)\n",
        "df = pd.DataFrame(oht_ary, columns=oht.columns_)\n",
        "print (df)\n",
        "\n",
        "# #or use TransactionEncoder\n",
        "# from mlxtend.preprocessing import TransactionEncoder\n",
        "# tec = TransactionEncoder()\n",
        "# tec_array = tec.fit(dataset).transform(dataset)\n",
        "# tdf = pd.DataFrame(tec_array, columns=tec.columns_)\n",
        "# print(tdf)"
      ],
      "execution_count": null,
      "outputs": [
        {
          "output_type": "stream",
          "text": [
            "   Apple   Corn   Dill   Eggs  Ice cream  ...   Milk  Nutmeg  Onion  Unicorn  Yogurt\n",
            "0  False  False  False   True      False  ...   True    True   True    False    True\n",
            "1  False  False   True   True      False  ...  False    True   True    False    True\n",
            "2   True  False  False   True      False  ...   True   False  False    False   False\n",
            "3  False   True  False  False      False  ...   True   False  False     True    True\n",
            "4  False   True  False   True       True  ...  False   False   True    False   False\n",
            "\n",
            "[5 rows x 11 columns]\n"
          ],
          "name": "stdout"
        },
        {
          "output_type": "stream",
          "text": [
            "/usr/local/lib/python3.6/dist-packages/mlxtend/preprocessing/onehot.py:66: DeprecationWarning: OnehotTransactions has been deprecated and will be removed in future. Please use TransactionEncoder instead.\n",
            "  warnings.warn(msg, DeprecationWarning)\n"
          ],
          "name": "stderr"
        }
      ]
    },
    {
      "cell_type": "code",
      "metadata": {
        "id": "fOOD9_D61MH-",
        "colab_type": "code",
        "colab": {
          "base_uri": "https://localhost:8080/",
          "height": 218
        },
        "outputId": "3a23b376-2fc2-4d2d-ecaf-316572dce6b8"
      },
      "source": [
        "frequent_itemsets = apriori(df, min_support=0.6, use_colnames=True)\n",
        "print (frequent_itemsets)"
      ],
      "execution_count": null,
      "outputs": [
        {
          "output_type": "stream",
          "text": [
            "    support                     itemsets\n",
            "0       0.8                       (Eggs)\n",
            "1       1.0               (Kidney Beans)\n",
            "2       0.6                       (Milk)\n",
            "3       0.6                      (Onion)\n",
            "4       0.6                     (Yogurt)\n",
            "5       0.8         (Eggs, Kidney Beans)\n",
            "6       0.6                (Eggs, Onion)\n",
            "7       0.6         (Milk, Kidney Beans)\n",
            "8       0.6        (Onion, Kidney Beans)\n",
            "9       0.6       (Yogurt, Kidney Beans)\n",
            "10      0.6  (Eggs, Onion, Kidney Beans)\n"
          ],
          "name": "stdout"
        }
      ]
    },
    {
      "cell_type": "code",
      "metadata": {
        "id": "7R8qDnE42SmV",
        "colab_type": "code",
        "colab": {
          "base_uri": "https://localhost:8080/",
          "height": 336
        },
        "outputId": "16f61318-a1a1-4941-d390-372ff861e1c8"
      },
      "source": [
        "from mlxtend.frequent_patterns import association_rules\n",
        "rules = association_rules(frequent_itemsets, metric=\"lift\",min_threshold=0.7)\n",
        "print (rules)"
      ],
      "execution_count": null,
      "outputs": [
        {
          "output_type": "stream",
          "text": [
            "              antecedents            consequents  ...  leverage  conviction\n",
            "0                  (Eggs)         (Kidney Beans)  ...      0.00         inf\n",
            "1          (Kidney Beans)                 (Eggs)  ...      0.00         1.0\n",
            "2                  (Eggs)                (Onion)  ...      0.12         1.6\n",
            "3                 (Onion)                 (Eggs)  ...      0.12         inf\n",
            "4                  (Milk)         (Kidney Beans)  ...      0.00         inf\n",
            "5          (Kidney Beans)                 (Milk)  ...      0.00         1.0\n",
            "6                 (Onion)         (Kidney Beans)  ...      0.00         inf\n",
            "7          (Kidney Beans)                (Onion)  ...      0.00         1.0\n",
            "8                (Yogurt)         (Kidney Beans)  ...      0.00         inf\n",
            "9          (Kidney Beans)               (Yogurt)  ...      0.00         1.0\n",
            "10          (Eggs, Onion)         (Kidney Beans)  ...      0.00         inf\n",
            "11   (Eggs, Kidney Beans)                (Onion)  ...      0.12         1.6\n",
            "12  (Onion, Kidney Beans)                 (Eggs)  ...      0.12         inf\n",
            "13                 (Eggs)  (Onion, Kidney Beans)  ...      0.12         1.6\n",
            "14                (Onion)   (Eggs, Kidney Beans)  ...      0.12         inf\n",
            "15         (Kidney Beans)          (Eggs, Onion)  ...      0.00         1.0\n",
            "\n",
            "[16 rows x 9 columns]\n"
          ],
          "name": "stdout"
        }
      ]
    }
  ]
}